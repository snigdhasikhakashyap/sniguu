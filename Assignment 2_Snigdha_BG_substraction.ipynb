{
 "cells": [
  {
   "cell_type": "markdown",
   "metadata": {},
   "source": [
    "# Import the necessary libraries"
   ]
  },
  {
   "cell_type": "code",
   "execution_count": 25,
   "metadata": {},
   "outputs": [],
   "source": [
    "import numpy as np\n",
    "import matplotlib.image as mpimg\n",
    "import matplotlib.pyplot as plt \n",
    "import os\n",
    "import sys\n",
    "import cv2"
   ]
  },
  {
   "cell_type": "markdown",
   "metadata": {},
   "source": [
    "# Function to initialise the mean and variance images"
   ]
  },
  {
   "cell_type": "code",
   "execution_count": 31,
   "metadata": {},
   "outputs": [],
   "source": [
    "def initBackground(initImage):\n",
    "    img_arr = mpimg.imread(initImage)\n",
    "    mean = img_arr\n",
    "    variance = 9*np.ones(img_arr.shape)\n",
    "    return(mean,variance)"
   ]
  },
  {
   "cell_type": "markdown",
   "metadata": {},
   "source": [
    "# Classify images into foreground and background pixels using a Chebyshev inequality based classifier"
   ]
  },
  {
   "cell_type": "code",
   "execution_count": 33,
   "metadata": {},
   "outputs": [],
   "source": [
    "def ForegroundDetection(img_file,mean,variance,lmda):\n",
    "    img = cv2.imread(img_file) \n",
    "    d = img - mean\n",
    "    y = variance*(lmda**2)\n",
    "    d_2 = np.square(d)\n",
    "    I = d_2 - y\n",
    "    mask = np.all(I>0,axis=2)\n",
    "    rI = 255*mask.astype(int)\n",
    "    rI = rI.astype(np.uint8)\n",
    "    return(rI)"
   ]
  },
  {
   "cell_type": "markdown",
   "metadata": {},
   "source": [
    "# Reduce the image noise using a voting scheme"
   ]
  },
  {
   "cell_type": "code",
   "execution_count": null,
   "metadata": {},
   "outputs": [],
   "source": [
    "def Voting(rI,eta,m,n):\n",
    "    r,c = rI.shape\n",
    "    cI = np.zeros((rI.shape[0],rI.shape[1]))\n",
    "    for i in range(m,r-1-m):\n",
    "        for j in range(n,c-1-n):\n",
    "            img_patch = rI[i-m:i,j-n:j]\n",
    "            y_unq, counts = np.unique(img_patch,return_counts=True)\n",
    "            if len(counts) == 1 and y_unq[0] == 1:\n",
    "                cI[i,j] = 255\n",
    "            if len(counts)>1:\n",
    "                if counts[1] > eta*m*n:\n",
    "                    cI[i,j] = 255\n",
    "    cI = cI.astype(np.uint8)\n",
    "    return cI"
   ]
  },
  {
   "cell_type": "markdown",
   "metadata": {},
   "source": [
    "# Update the mean and variance images using a weighted average scheme"
   ]
  },
  {
   "cell_type": "code",
   "execution_count": null,
   "metadata": {},
   "outputs": [],
   "source": [
    "def meanvarUpdate(cI,img_path,M,V,alpha):\n",
    "    img = mpimg.imread(img_path)\n",
    "    mean_upd = np.zeros(img.shape)\n",
    "    var_upd = np.zeros(img.shape)\n",
    "    d = img - M\n",
    "    d_2 = np.square(d)\n",
    "    for i in range(cI.shape[0]):\n",
    "        for j in range(cI.shape[1]):\n",
    "            if cI[i,j] == 0:\n",
    "                mean_upd[i,j,:] = (1-alpha)*M[i,j,:] + alpha*img[i,j,:]\n",
    "                var_upd[i,j,:] = (1-alpha)*(V[i,j,:] + alpha*d_2[i,j,:])\n",
    "                var_upd[i,j,:] = np.clip(var_upd[i,j,:],a_min = 9,a_max = None)\n",
    "    return(mean_upd,var_upd)"
   ]
  },
  {
   "cell_type": "code",
   "execution_count": null,
   "metadata": {},
   "outputs": [],
   "source": [
    "def Background_Subtraction(img_dir,lmda,eta,m,n,alpha):\n",
    "    \n",
    "    img_file_name = os.listdir(img_dir)\n",
    "    initImage = os.path.join(img_dir,img_file_name[0])\n",
    "    mean, variance = initBackground(initImage)\n",
    "    \n",
    "    for i in range(1,25):\n",
    "        img_path = os.path.join(img_dir,img_file_name[i])\n",
    "        \n",
    "        fig, ax = plt.subplots(1,3,figsize=(13,13))\n",
    "        rI = ForegroundDetection(img_path,mean,variance,lmda)\n",
    "        ax[0].imshow(rI,cmap=\"gray\")\n",
    "        \n",
    "        cI = Voting(rI,eta,m,n)\n",
    "        mean, variance = meanvarUpdate(cI,img_path,mean,variance,alpha)\n",
    "        ax[1].imshow(cI,cmap=\"gray\")\n",
    "        \n",
    "        img = cv2.imread(img_path)\n",
    "        ax[2].imshow(img,cmap=\"gray\")\n",
    "        \n",
    "        plt.show()\n",
    "    return(mean,variance)"
   ]
  },
  {
   "cell_type": "code",
   "execution_count": null,
   "metadata": {},
   "outputs": [],
   "source": [
    "mean,variance = Background_Subtraction(\"./image/AirStripVideo/images\",0.7,0.7,8,8,0.8)"
   ]
  },
  {
   "cell_type": "code",
   "execution_count": null,
   "metadata": {},
   "outputs": [],
   "source": []
  }
 ],
 "metadata": {
  "kernelspec": {
   "display_name": "Python 3",
   "language": "python",
   "name": "python3"
  },
  "language_info": {
   "codemirror_mode": {
    "name": "ipython",
    "version": 3
   },
   "file_extension": ".py",
   "mimetype": "text/x-python",
   "name": "python",
   "nbconvert_exporter": "python",
   "pygments_lexer": "ipython3",
   "version": "3.7.4"
  }
 },
 "nbformat": 4,
 "nbformat_minor": 4
}
